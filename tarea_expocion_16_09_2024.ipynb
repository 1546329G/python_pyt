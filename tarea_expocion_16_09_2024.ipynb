{
  "nbformat": 4,
  "nbformat_minor": 0,
  "metadata": {
    "colab": {
      "provenance": [],
      "toc_visible": true,
      "authorship_tag": "ABX9TyMMgMg9DsP7ClrLMl2mJodx",
      "include_colab_link": true
    },
    "kernelspec": {
      "name": "python3",
      "display_name": "Python 3"
    },
    "language_info": {
      "name": "python"
    }
  },
  "cells": [
    {
      "cell_type": "markdown",
      "metadata": {
        "id": "view-in-github",
        "colab_type": "text"
      },
      "source": [
        "<a href=\"https://colab.research.google.com/github/1546329G/python_pyt/blob/main/tarea_expocion_16_09_2024.ipynb\" target=\"_parent\"><img src=\"https://colab.research.google.com/assets/colab-badge.svg\" alt=\"Open In Colab\"/></a>"
      ]
    },
    {
      "cell_type": "code",
      "execution_count": null,
      "metadata": {
        "colab": {
          "base_uri": "https://localhost:8080/",
          "height": 147
        },
        "id": "-9e2ocjchzaI",
        "outputId": "584ca0d6-d383-427e-fd57-c841a86eac26"
      },
      "outputs": [
        {
          "output_type": "execute_result",
          "data": {
            "text/plain": [
              "Matemáticas    1.0\n",
              "Español        1.0\n",
              "dtype: float64"
            ],
            "text/html": [
              "<div>\n",
              "<style scoped>\n",
              "    .dataframe tbody tr th:only-of-type {\n",
              "        vertical-align: middle;\n",
              "    }\n",
              "\n",
              "    .dataframe tbody tr th {\n",
              "        vertical-align: top;\n",
              "    }\n",
              "\n",
              "    .dataframe thead th {\n",
              "        text-align: right;\n",
              "    }\n",
              "</style>\n",
              "<table border=\"1\" class=\"dataframe\">\n",
              "  <thead>\n",
              "    <tr style=\"text-align: right;\">\n",
              "      <th></th>\n",
              "      <th>0</th>\n",
              "    </tr>\n",
              "  </thead>\n",
              "  <tbody>\n",
              "    <tr>\n",
              "      <th>Matemáticas</th>\n",
              "      <td>1.0</td>\n",
              "    </tr>\n",
              "    <tr>\n",
              "      <th>Español</th>\n",
              "      <td>1.0</td>\n",
              "    </tr>\n",
              "  </tbody>\n",
              "</table>\n",
              "</div><br><label><b>dtype:</b> float64</label>"
            ]
          },
          "metadata": {},
          "execution_count": 3
        }
      ],
      "source": [
        "import pandas as pd\n",
        "import numpy as np\n",
        "\n",
        "# Creamos una tabla con notas (simuladas)\n",
        "notas = np.array([[8, 7],\n",
        "                 [9, 6],\n",
        "                 [7, 8]])\n",
        "\n",
        "# Convertimos la tabla en un DataFrame\n",
        "df_notas = pd.DataFrame(notas, columns=['Matemáticas', 'Español'])\n",
        "\n",
        "# Calculamos la desviación estándar\n",
        "desviacion = df_notas.std()\n",
        "\n",
        "# Mostramos el resultado\n",
        "desviacion\n"
      ]
    },
    {
      "cell_type": "code",
      "source": [
        "#Crea un DataFrame con 5 filas y 4 columnas, con valores enteros aleatorios entre\n",
        "#10 y 100. Calcula la desviación estándar de cada columna.\n",
        "#Valores:\n",
        "#• Generar un DataFrame con valores aleatorios entre 10 y 100.\n",
        "\n",
        "import pandas as pd\n",
        "import numpy as np\n",
        "\n",
        "datos = np.random.randint(10, 100, (5, 4))\n",
        "df = pd.DataFrame(datos, columns=['Columna1', 'Coumna2', 'Columna3', 'Columna4'])\n",
        "\n",
        "# Calcular la desviación de las columnAs\n",
        "desviacion = df.std()\n",
        "\n",
        "print(\"Tabla de datos:\")\n",
        "print(df)\n",
        "print(\"\\nDesviación estándar de cada columna:\")\n",
        "print(desviacion)\n"
      ],
      "metadata": {
        "id": "ztrrh3IlDqVl",
        "outputId": "243e2a46-714b-460e-ef28-968d651697d5",
        "colab": {
          "base_uri": "https://localhost:8080/"
        }
      },
      "execution_count": 2,
      "outputs": [
        {
          "output_type": "stream",
          "name": "stdout",
          "text": [
            "Tabla de datos:\n",
            "   Columna1  Coumna2  Columna3  Columna4\n",
            "0        53       97        42        61\n",
            "1        23       31        36        58\n",
            "2        86       90        89        51\n",
            "3        72       64        54        45\n",
            "4        31       78        34        37\n",
            "\n",
            "Desviación estándar de cada columna:\n",
            "Columna1    26.617663\n",
            "Coumna2     26.124701\n",
            "Columna3    22.627417\n",
            "Columna4     9.736529\n",
            "dtype: float64\n"
          ]
        }
      ]
    }
  ]
}