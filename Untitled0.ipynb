{
  "nbformat": 4,
  "nbformat_minor": 0,
  "metadata": {
    "colab": {
      "provenance": [],
      "authorship_tag": "ABX9TyOpxnpqC1YwNfdQ9kpOaCT0",
      "include_colab_link": true
    },
    "kernelspec": {
      "name": "python3",
      "display_name": "Python 3"
    },
    "language_info": {
      "name": "python"
    }
  },
  "cells": [
    {
      "cell_type": "markdown",
      "metadata": {
        "id": "view-in-github",
        "colab_type": "text"
      },
      "source": [
        "<a href=\"https://colab.research.google.com/github/1546329G/python_pyt/blob/main/Untitled0.ipynb\" target=\"_parent\"><img src=\"https://colab.research.google.com/assets/colab-badge.svg\" alt=\"Open In Colab\"/></a>"
      ]
    },
    {
      "cell_type": "markdown",
      "source": [
        "utlizar pandas y conectores logicos"
      ],
      "metadata": {
        "id": "4AtYB5KXg2A4"
      }
    },
    {
      "cell_type": "code",
      "source": [
        "import pandas as pd\n",
        "#crear una dataframe simple\n",
        "data={\n",
        "    'Nombre': ['german','julio','charly'],\n",
        "    'edad':[37,15,28],\n",
        "    'ciudad': ['tacna','trujilo','cajarmarca']\n",
        "}\n",
        "\n",
        "#2do convierto la estrucutura en dataframe\n",
        "df=pd.DataFrame(data)\n",
        "\n",
        "#mostrar la dataframe\n",
        "print(df)\n",
        "\n",
        "#flitar a las personas qu viven en trujillo\n",
        "filtro=df['ciudad']=='trujillo' #condicion\n",
        "respuesta=df[filtro]            #aplicar en df la condicion\n",
        "print(respuesta)\n",
        "\n",
        "\n",
        "\n"
      ],
      "metadata": {
        "colab": {
          "base_uri": "https://localhost:8080/"
        },
        "id": "wPALI2Q2g2TI",
        "outputId": "a713e79a-8917-4f99-ad20-a619e293917f"
      },
      "execution_count": 4,
      "outputs": [
        {
          "output_type": "stream",
          "name": "stdout",
          "text": [
            "   Nombre  edad      ciudad\n",
            "0  german    37       tacna\n",
            "1   julio    15     trujilo\n",
            "2  charly    28  cajarmarca\n",
            "Empty DataFrame\n",
            "Columns: [Nombre, edad, ciudad]\n",
            "Index: []\n"
          ]
        }
      ]
    },
    {
      "cell_type": "code",
      "source": [
        "import pandas as pd\n",
        "#crear una dataframe simple\n",
        "data={\n",
        "    'Nombre': ['german','julio','charly'],\n",
        "    'edad':[37,15,28],\n",
        "    'ciudad': ['tacna','trujilo','cajarmarca']\n",
        "}\n",
        "\n",
        "#2do convierto la estrucutura en dataframe\n",
        "df=pd.DataFrame(data)\n",
        "filtro=df['edad']>20\n",
        "respuesta=df[filtro]\n",
        "print(respuesta)"
      ],
      "metadata": {
        "colab": {
          "base_uri": "https://localhost:8080/"
        },
        "id": "m4D1BI-vqqPv",
        "outputId": "01a09e8d-7784-49af-dfc0-0be4ed789e1f"
      },
      "execution_count": 5,
      "outputs": [
        {
          "output_type": "stream",
          "name": "stdout",
          "text": [
            "   Nombre  edad      ciudad\n",
            "0  german    37       tacna\n",
            "2  charly    28  cajarmarca\n"
          ]
        }
      ]
    },
    {
      "cell_type": "code",
      "source": [
        "import pandas as pd\n",
        "#crear una dataframe simple\n",
        "data={\n",
        "    'Nombre': ['german','julio','charly','maria','jorge'],\n",
        "    'edad':[37,15,28,22,30],\n",
        "    'ciudad': ['tacna','trujilo','cajarmarca','tacna','tacna']\n",
        "}\n",
        "\n",
        "#2do convierto la estrucutura en dataframe\n",
        "df=pd.DataFrame(data)\n",
        "#hora debemos mostrar quien nacio en tacna y sea mayor a 25años\n",
        "filtro=(df['ciudad']=='tacna') & (df['edad']>25)\n",
        "respuesta=df[filtro]\n",
        "print(respuesta)"
      ],
      "metadata": {
        "colab": {
          "base_uri": "https://localhost:8080/"
        },
        "id": "Dx6G3AWkrSw-",
        "outputId": "1a1b3067-6804-48c0-849e-bb610b44a937"
      },
      "execution_count": 3,
      "outputs": [
        {
          "output_type": "stream",
          "name": "stdout",
          "text": [
            "   Nombre  edad ciudad\n",
            "0  german    37  tacna\n",
            "4   jorge    30  tacna\n"
          ]
        }
      ]
    },
    {
      "cell_type": "markdown",
      "source": [
        "operaciones en columnas:\n",
        "agregar,eiminar y modificar en una dad frame"
      ],
      "metadata": {
        "id": "jO-O_x9ftBfm"
      }
    },
    {
      "cell_type": "code",
      "source": [
        "import pandas as pd\n",
        "data={\n",
        "    'producto':['galleta','huevo','yogurt','gaseosa'],\n",
        "    'precio': [1.2, 1, 6.5, 1.2],\n",
        "    'cantidad':[20,100,24,36]\n",
        "\n",
        "}\n",
        "df=pd.DataFrame(data)\n",
        "#agregar una columna de monto_total=precio*cantidad\n",
        "df['monto total']= df['precio'] * df['cantidad']\n",
        "print(\"la nueva columna es monto total\")\n",
        "print(df)\n",
        "#modifcar unancolumna con un descuento 20% al precio\n",
        "df ['precio con descuento']=df['precio']*0.2\n",
        "print(\"ahora tenemos el decuento mdel 20%\")\n",
        "#eliminar la columna cantidad\n",
        "df=df.drop(columns=['cantidad'])\n",
        "print(\"ahora elimine ala coluna cantidad\")\n",
        "print(df)"
      ],
      "metadata": {
        "colab": {
          "base_uri": "https://localhost:8080/"
        },
        "id": "ZtLbHMjstF49",
        "outputId": "4ac3c4db-0d6c-432e-e723-7af39b58973a"
      },
      "execution_count": 11,
      "outputs": [
        {
          "output_type": "stream",
          "name": "stdout",
          "text": [
            "la nueva columna es monto total\n",
            "  producto  precio  cantidad  monto total\n",
            "0  galleta     1.2        20         24.0\n",
            "1    huevo     1.0       100        100.0\n",
            "2   yogurt     6.5        24        156.0\n",
            "3  gaseosa     1.2        36         43.2\n",
            "ahora tenemos el decuento mdel 20%\n",
            "ahora elimine ala coluna cantidad\n",
            "  producto  precio  monto total  precio con descuento\n",
            "0  galleta     1.2         24.0                  0.24\n",
            "1    huevo     1.0        100.0                  0.20\n",
            "2   yogurt     6.5        156.0                  1.30\n",
            "3  gaseosa     1.2         43.2                  0.24\n"
          ]
        }
      ]
    },
    {
      "cell_type": "code",
      "source": [
        "#agrupar datos e una dataframe y calcularemos estadisticas acrupadas\n",
        "import pandas as pd\n",
        "data={\n",
        "    'vendedor':['ana','luis','pedro','luis','ana','carlos'],\n",
        "    'producto':['mazana', 'pera','platano','manzana','pera','sandia'],\n",
        "    'ventas':[150, 100, 120, 80, 186, 95]\n",
        "\n",
        "}\n",
        "\n",
        "df=pd.DataFrame(data)\n",
        "#agrupar por vendedor y calcular la suma total de ventas\n",
        "ventaVendedor=df.groupby('vendedor')['ventas'].sum()\n",
        "print(\"las ventas totoles por vendedopr son: \")\n",
        "print(ventaVendedor)\n",
        "\n",
        "\n",
        "\n"
      ],
      "metadata": {
        "colab": {
          "base_uri": "https://localhost:8080/"
        },
        "id": "KTovnaYeyhIA",
        "outputId": "25e43fbe-aa61-416d-c216-63807c0020b4"
      },
      "execution_count": 13,
      "outputs": [
        {
          "output_type": "stream",
          "name": "stdout",
          "text": [
            "las ventas totoles por vendedopr son: \n",
            "vendedor\n",
            "ana       336\n",
            "carlos     95\n",
            "luis      180\n",
            "pedro     120\n",
            "Name: ventas, dtype: int64\n"
          ]
        }
      ]
    },
    {
      "cell_type": "code",
      "source": [
        "#valores nulos en una dataframe\n",
        "import pandas as pd\n",
        "import numpy as np\n",
        "data ={\n",
        "    'nombre':['ana','luis','carlos','maria']\n",
        "\n",
        "}"
      ],
      "metadata": {
        "id": "rf71_VPqIAlP"
      },
      "execution_count": null,
      "outputs": []
    }
  ]
}