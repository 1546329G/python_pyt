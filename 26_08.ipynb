{
  "nbformat": 4,
  "nbformat_minor": 0,
  "metadata": {
    "colab": {
      "provenance": [],
      "authorship_tag": "ABX9TyOptwIVxEPzXVzp/+7LrDwC",
      "include_colab_link": true
    },
    "kernelspec": {
      "name": "python3",
      "display_name": "Python 3"
    },
    "language_info": {
      "name": "python"
    }
  },
  "cells": [
    {
      "cell_type": "markdown",
      "metadata": {
        "id": "view-in-github",
        "colab_type": "text"
      },
      "source": [
        "<a href=\"https://colab.research.google.com/github/1546329G/python_pyt/blob/main/26_08.ipynb\" target=\"_parent\"><img src=\"https://colab.research.google.com/assets/colab-badge.svg\" alt=\"Open In Colab\"/></a>"
      ]
    },
    {
      "cell_type": "markdown",
      "source": [
        "utlizar pandas y conectores logicos"
      ],
      "metadata": {
        "id": "4AtYB5KXg2A4"
      }
    },
    {
      "cell_type": "code",
      "source": [
        "import pandas as pd\n",
        "#crear una dataframe simple\n",
        "data={\n",
        "    'Nombre': ['german','julio','charly'],\n",
        "    'edad':[37,15,28],\n",
        "    'ciudad': ['tacna','trujilo','cajarmarca']\n",
        "}\n",
        "\n",
        "#2do convierto la estrucutura en dataframe\n",
        "df=pd.DataFrame(data)\n",
        "\n",
        "#mostrar la dataframe\n",
        "print(df)\n",
        "\n",
        "#flitar a las personas qu viven en trujillo\n",
        "filtro=df['ciudad']=='trujillo' #condicion\n",
        "respuesta=df[filtro]            #aplicar en df la condicion\n",
        "print(respuesta)\n",
        "\n",
        "\n",
        "\n"
      ],
      "metadata": {
        "colab": {
          "base_uri": "https://localhost:8080/"
        },
        "id": "wPALI2Q2g2TI",
        "outputId": "a713e79a-8917-4f99-ad20-a619e293917f"
      },
      "execution_count": 4,
      "outputs": [
        {
          "output_type": "stream",
          "name": "stdout",
          "text": [
            "   Nombre  edad      ciudad\n",
            "0  german    37       tacna\n",
            "1   julio    15     trujilo\n",
            "2  charly    28  cajarmarca\n",
            "Empty DataFrame\n",
            "Columns: [Nombre, edad, ciudad]\n",
            "Index: []\n"
          ]
        }
      ]
    },
    {
      "cell_type": "code",
      "source": [
        "import pandas as pd\n",
        "#crear una dataframe simple\n",
        "data={\n",
        "    'Nombre': ['german','julio','charly'],\n",
        "    'edad':[37,15,28],\n",
        "    'ciudad': ['tacna','trujilo','cajarmarca']\n",
        "}\n",
        "\n",
        "#2do convierto la estrucutura en dataframe\n",
        "df=pd.DataFrame(data)\n",
        "filtro=df['edad']>20\n",
        "respuesta=df[filtro]\n",
        "print(respuesta)"
      ],
      "metadata": {
        "colab": {
          "base_uri": "https://localhost:8080/"
        },
        "id": "m4D1BI-vqqPv",
        "outputId": "01a09e8d-7784-49af-dfc0-0be4ed789e1f"
      },
      "execution_count": 5,
      "outputs": [
        {
          "output_type": "stream",
          "name": "stdout",
          "text": [
            "   Nombre  edad      ciudad\n",
            "0  german    37       tacna\n",
            "2  charly    28  cajarmarca\n"
          ]
        }
      ]
    },
    {
      "cell_type": "code",
      "source": [
        "import pandas as pd\n",
        "#crear una dataframe simple\n",
        "data={\n",
        "    'Nombre': ['german','julio','charly','maria','jorge'],\n",
        "    'edad':[37,15,28,22,30],\n",
        "    'ciudad': ['tacna','trujilo','cajarmarca','tacna','tacna']\n",
        "}\n",
        "\n",
        "#2do convierto la estrucutura en dataframe\n",
        "df=pd.DataFrame(data)\n",
        "#hora debemos mostrar quien nacio en tacna y sea mayor a 25años\n",
        "filtro=(df['ciudad']=='tacna') & (df['edad']>25)\n",
        "respuesta=df[filtro]\n",
        "print(respuesta)"
      ],
      "metadata": {
        "colab": {
          "base_uri": "https://localhost:8080/"
        },
        "id": "Dx6G3AWkrSw-",
        "outputId": "1a1b3067-6804-48c0-849e-bb610b44a937"
      },
      "execution_count": 3,
      "outputs": [
        {
          "output_type": "stream",
          "name": "stdout",
          "text": [
            "   Nombre  edad ciudad\n",
            "0  german    37  tacna\n",
            "4   jorge    30  tacna\n"
          ]
        }
      ]
    },
    {
      "cell_type": "markdown",
      "source": [
        "operaciones en columnas:\n",
        "agregar,eiminar y modificar en una dad frame"
      ],
      "metadata": {
        "id": "jO-O_x9ftBfm"
      }
    },
    {
      "cell_type": "code",
      "source": [
        "import pandas as pd\n",
        "data={\n",
        "    'producto':['galleta','huevo','yogurt','gaseosa'],\n",
        "    'precio': [1.2, 1, 6.5, 1.2],\n",
        "    'cantidad':[20,100,24,36]\n",
        "\n",
        "}\n",
        "df=pd.DataFrame(data)\n",
        "#agregar una columna de monto_total=precio*cantidad\n",
        "df['monto total']= df['precio'] * df['cantidad']\n",
        "print(\"la nueva columna es monto total\")\n",
        "print(df)\n",
        "#modifcar unancolumna con un descuento 20% al precio\n",
        "df ['precio con descuento']=df['precio']*0.2\n",
        "print(\"ahora tenemos el decuento mdel 20%\")\n",
        "#eliminar la columna cantidad\n",
        "df=df.drop(columns=['cantidad'])\n",
        "print(\"ahora elimine ala coluna cantidad\")\n",
        "print(df)"
      ],
      "metadata": {
        "colab": {
          "base_uri": "https://localhost:8080/"
        },
        "id": "ZtLbHMjstF49",
        "outputId": "4ac3c4db-0d6c-432e-e723-7af39b58973a"
      },
      "execution_count": 11,
      "outputs": [
        {
          "output_type": "stream",
          "name": "stdout",
          "text": [
            "la nueva columna es monto total\n",
            "  producto  precio  cantidad  monto total\n",
            "0  galleta     1.2        20         24.0\n",
            "1    huevo     1.0       100        100.0\n",
            "2   yogurt     6.5        24        156.0\n",
            "3  gaseosa     1.2        36         43.2\n",
            "ahora tenemos el decuento mdel 20%\n",
            "ahora elimine ala coluna cantidad\n",
            "  producto  precio  monto total  precio con descuento\n",
            "0  galleta     1.2         24.0                  0.24\n",
            "1    huevo     1.0        100.0                  0.20\n",
            "2   yogurt     6.5        156.0                  1.30\n",
            "3  gaseosa     1.2         43.2                  0.24\n"
          ]
        }
      ]
    },
    {
      "cell_type": "code",
      "source": [
        "#agrupar datos e una dataframe y calcularemos estadisticas acrupadas\n",
        "import pandas as pd\n",
        "data={\n",
        "    'vendedor':['ana','luis','pedro','luis','ana','carlos'],\n",
        "    'producto':['mazana', 'pera','platano','manzana','pera','sandia'],\n",
        "    'ventas':[150, 100, 120, 80, 186, 95]\n",
        "\n",
        "}\n",
        "\n",
        "df=pd.DataFrame(data)\n",
        "#agrupar por vendedor y calcular la suma total de ventas\n",
        "ventaVendedor=df.groupby('vendedor')['ventas'].sum()\n",
        "print(\"las ventas totoles por vendedopr son: \")\n",
        "print(ventaVendedor)\n",
        "\n",
        "\n",
        "\n"
      ],
      "metadata": {
        "colab": {
          "base_uri": "https://localhost:8080/"
        },
        "id": "KTovnaYeyhIA",
        "outputId": "25e43fbe-aa61-416d-c216-63807c0020b4"
      },
      "execution_count": 13,
      "outputs": [
        {
          "output_type": "stream",
          "name": "stdout",
          "text": [
            "las ventas totoles por vendedopr son: \n",
            "vendedor\n",
            "ana       336\n",
            "carlos     95\n",
            "luis      180\n",
            "pedro     120\n",
            "Name: ventas, dtype: int64\n"
          ]
        }
      ]
    },
    {
      "cell_type": "code",
      "source": [
        "#valores nulos en una dataframe\n",
        "import pandas as pd\n",
        "import numpy as np\n",
        "data ={\n",
        "    'nombre':['ana','luis','carlos','maria',np.nan],\n",
        "    'edad':[23,np.nan,30,22,28],\n",
        "    'ciudad':['tacna','arequipa',np.nan,'puno','tacna']\n",
        "}\n",
        "df=pd.DataFrame(data)\n",
        "print(df)\n",
        "\n",
        "\n",
        "#PROSOR DETECTEMOS LOS VALORES NULOS\n",
        "print(\"VALORES NULOS DE LA DATAFRAME\")\n",
        "print(df.isnull())\n",
        "\n",
        "\n",
        "#reemplazar valores mnuelos en la columna edad y\n",
        "#apartir de la medida de las edades (promedio)\n",
        "df['edad'].fillna(df['edad'].mean(),inplace=True)\n",
        "print(\"mostramos la dataframe con todas las edades\")\n",
        "print(df)\n",
        "\n",
        "#eliminar filas de cualquier valor nulo\n",
        "df.dropna(inplace=True)\n",
        "print(\"eliminamos filas de datos nulos\")\n",
        "print(df)"
      ],
      "metadata": {
        "colab": {
          "base_uri": "https://localhost:8080/"
        },
        "id": "rf71_VPqIAlP",
        "outputId": "26293d53-7968-4936-ae16-4fc1e83caf62"
      },
      "execution_count": 6,
      "outputs": [
        {
          "output_type": "stream",
          "name": "stdout",
          "text": [
            "   nombre  edad    ciudad\n",
            "0     ana  23.0     tacna\n",
            "1    luis   NaN  arequipa\n",
            "2  carlos  30.0       NaN\n",
            "3   maria  22.0      puno\n",
            "4     NaN  28.0     tacna\n",
            "VALORES NULOS DE LA DATAFRAME\n",
            "   nombre   edad  ciudad\n",
            "0   False  False   False\n",
            "1   False   True   False\n",
            "2   False  False    True\n",
            "3   False  False   False\n",
            "4    True  False   False\n",
            "mostramos la dataframe con todas las edades\n",
            "   nombre   edad    ciudad\n",
            "0     ana  23.00     tacna\n",
            "1    luis  25.75  arequipa\n",
            "2  carlos  30.00       NaN\n",
            "3   maria  22.00      puno\n",
            "4     NaN  28.00     tacna\n",
            "eliminamos filas de datos nulos\n",
            "  nombre   edad    ciudad\n",
            "0    ana  23.00     tacna\n",
            "1   luis  25.75  arequipa\n",
            "3  maria  22.00      puno\n"
          ]
        }
      ]
    },
    {
      "cell_type": "code",
      "source": [
        "#merge y cancatenacion de dataframes\n",
        "import pandas as pd\n",
        "\n",
        "data1={\n",
        "    'id':[1,2,3],\n",
        "    'nombre':['ana','luis','carlos']\n",
        "\n",
        "}\n",
        "df1=pd.DataFrame(data1)\n",
        "\n",
        "data2={\n",
        "      'id':[1,2,3],\n",
        "    'edad':[23, 39, 55]\n",
        "\n",
        "}\n",
        "df2=pd.DataFrame(data2)\n",
        "\n",
        "#realizar una megre basada en la columna id\n",
        "df_merge=pd.merge(df1,df2, on='id', how='inner' )\n",
        "print(\"dataframe despues del merge\")\n",
        "print(df_merge)\n",
        "\n",
        "#cocatenar 2 dataframe verticalmente\n",
        "data3={\n",
        "    'id': [5,6],\n",
        "    'nombre':['maria','juan']\n",
        "}\n",
        "#aqui  en hay error, toca corregir\n",
        "df3=pd.DataFrame(data3)\n",
        "df_concat=pd.concat([df1.df3],ignore_index=True)\n",
        "print(\"DataFrame luego de la concatenacion\")\n",
        "print(df_concat)\n",
        "\n",
        "\n"
      ],
      "metadata": {
        "colab": {
          "base_uri": "https://localhost:8080/",
          "height": 419
        },
        "id": "sJmGtOlHNbwW",
        "outputId": "c2a84840-561f-4d7b-e4d1-960c9623655a"
      },
      "execution_count": 16,
      "outputs": [
        {
          "output_type": "stream",
          "name": "stdout",
          "text": [
            "dataframe despues del merge\n",
            "   id  nombre  edad\n",
            "0   1     ana    23\n",
            "1   2    luis    39\n",
            "2   3  carlos    55\n"
          ]
        },
        {
          "output_type": "error",
          "ename": "AttributeError",
          "evalue": "'DataFrame' object has no attribute 'df3'",
          "traceback": [
            "\u001b[0;31m---------------------------------------------------------------------------\u001b[0m",
            "\u001b[0;31mAttributeError\u001b[0m                            Traceback (most recent call last)",
            "\u001b[0;32m<ipython-input-16-0b34abdd68a9>\u001b[0m in \u001b[0;36m<cell line: 30>\u001b[0;34m()\u001b[0m\n\u001b[1;32m     28\u001b[0m \u001b[0;31m#aqui  en hay error, toca corregir\u001b[0m\u001b[0;34m\u001b[0m\u001b[0;34m\u001b[0m\u001b[0m\n\u001b[1;32m     29\u001b[0m \u001b[0mdf3\u001b[0m\u001b[0;34m=\u001b[0m\u001b[0mpd\u001b[0m\u001b[0;34m.\u001b[0m\u001b[0mDataFrame\u001b[0m\u001b[0;34m(\u001b[0m\u001b[0mdata3\u001b[0m\u001b[0;34m)\u001b[0m\u001b[0;34m\u001b[0m\u001b[0;34m\u001b[0m\u001b[0m\n\u001b[0;32m---> 30\u001b[0;31m \u001b[0mdf_concat\u001b[0m\u001b[0;34m=\u001b[0m\u001b[0mpd\u001b[0m\u001b[0;34m.\u001b[0m\u001b[0mconcat\u001b[0m\u001b[0;34m(\u001b[0m\u001b[0;34m[\u001b[0m\u001b[0mdf1\u001b[0m\u001b[0;34m.\u001b[0m\u001b[0mdf3\u001b[0m\u001b[0;34m]\u001b[0m\u001b[0;34m,\u001b[0m\u001b[0mignore_index\u001b[0m\u001b[0;34m=\u001b[0m\u001b[0;32mTrue\u001b[0m\u001b[0;34m)\u001b[0m\u001b[0;34m\u001b[0m\u001b[0;34m\u001b[0m\u001b[0m\n\u001b[0m\u001b[1;32m     31\u001b[0m \u001b[0mprint\u001b[0m\u001b[0;34m(\u001b[0m\u001b[0;34m\"DataFrame luego de la concatenacion\"\u001b[0m\u001b[0;34m)\u001b[0m\u001b[0;34m\u001b[0m\u001b[0;34m\u001b[0m\u001b[0m\n\u001b[1;32m     32\u001b[0m \u001b[0mprint\u001b[0m\u001b[0;34m(\u001b[0m\u001b[0mdf_concat\u001b[0m\u001b[0;34m)\u001b[0m\u001b[0;34m\u001b[0m\u001b[0;34m\u001b[0m\u001b[0m\n",
            "\u001b[0;32m/usr/local/lib/python3.10/dist-packages/pandas/core/generic.py\u001b[0m in \u001b[0;36m__getattr__\u001b[0;34m(self, name)\u001b[0m\n\u001b[1;32m   6202\u001b[0m         ):\n\u001b[1;32m   6203\u001b[0m             \u001b[0;32mreturn\u001b[0m \u001b[0mself\u001b[0m\u001b[0;34m[\u001b[0m\u001b[0mname\u001b[0m\u001b[0;34m]\u001b[0m\u001b[0;34m\u001b[0m\u001b[0;34m\u001b[0m\u001b[0m\n\u001b[0;32m-> 6204\u001b[0;31m         \u001b[0;32mreturn\u001b[0m \u001b[0mobject\u001b[0m\u001b[0;34m.\u001b[0m\u001b[0m__getattribute__\u001b[0m\u001b[0;34m(\u001b[0m\u001b[0mself\u001b[0m\u001b[0;34m,\u001b[0m \u001b[0mname\u001b[0m\u001b[0;34m)\u001b[0m\u001b[0;34m\u001b[0m\u001b[0;34m\u001b[0m\u001b[0m\n\u001b[0m\u001b[1;32m   6205\u001b[0m \u001b[0;34m\u001b[0m\u001b[0m\n\u001b[1;32m   6206\u001b[0m     \u001b[0;34m@\u001b[0m\u001b[0mfinal\u001b[0m\u001b[0;34m\u001b[0m\u001b[0;34m\u001b[0m\u001b[0m\n",
            "\u001b[0;31mAttributeError\u001b[0m: 'DataFrame' object has no attribute 'df3'"
          ]
        }
      ]
    },
    {
      "cell_type": "code",
      "source": [
        "#ejercicio 1\n",
        "\"\"\"import pandas as pd\n",
        "data={\n",
        "    'producto':['manzana','pera','sandia','platano'],\n",
        "    'precio':[20,30.5,14.7,29]\n",
        "}\n",
        "df=pd.DataFrame(data)\n",
        "\n",
        "print(\"\\n respuesta final\")\n",
        "total=df['precio'].sum()\n",
        "print('\\nla suma total de los precios es', total)\n",
        "\"\"\"\n",
        "\n",
        "\n",
        "#ejercicio2.1\n",
        "#ventas de mayo\n",
        "import pandas as pd\n",
        "data={\n",
        "    'nombre':['ana','maria','pedro','david','jorge','ana'],\n",
        "    'edad':[32,18,15,27,31,32],\n",
        "    'mes':['enero','mayo','febrero','mayo','diciembre','mayo'],\n",
        "    'venta':[2000.50,700.50,950.50,3000.80,1000.70,500.50]\n",
        "}\n",
        "\n",
        "df=pd.DataFrame(data)\n",
        "ventaMayo=df.groupby('mes')['venta'].sum()\n",
        "print(\"el total de ventas del mes de mayo\")\n",
        "print(ventaMayo)\n",
        "\n",
        "\"\"\"\n",
        "df = pd.DataFrame(data)\n",
        "print(df)\n",
        "Summayo =df[df['mes'] == 'Mayo']['Venta'].sum()\n",
        "print(\"Le suma de las ventas on naye es:\")\n",
        "print(Summayo)\n",
        "\"\"\"\n",
        "\n",
        "\n",
        "\n",
        "#ejercicio 3\n",
        "#promedio personas > 25 años\n",
        "import pandas as pd\n",
        "data={\n",
        "        'nombre':['ana','maria','pedro','david','jorge','ana'],\n",
        "    'edad':[32,18,15,27,31,32],\n",
        "    'mes':['enero','mayo','febrero','mayo','diciembre','mayo'],\n",
        "    'venta':[2000.50,700.50,950.50,3000.80,1000.70,500.50]\n",
        "}\n",
        "df = pd.DataFrame(Data)\n",
        "print(df)\n",
        "filtro=df['edad']>25& (df['venta']< 2500)\n",
        "respuesta=df[filtro]\n",
        "print(respuesta)\n",
        "\n",
        "\n",
        "\n",
        "\n",
        "\n"
      ],
      "metadata": {
        "colab": {
          "base_uri": "https://localhost:8080/",
          "height": 332
        },
        "id": "uUhswctUURdS",
        "outputId": "92d8987e-4703-49ef-c099-2ef497c6e11e"
      },
      "execution_count": 8,
      "outputs": [
        {
          "output_type": "stream",
          "name": "stdout",
          "text": [
            "el total de ventas del mes de mayo\n",
            "mes\n",
            "diciembre    1000.7\n",
            "enero        2000.5\n",
            "febrero       950.5\n",
            "mayo         4201.8\n",
            "Name: venta, dtype: float64\n"
          ]
        },
        {
          "output_type": "error",
          "ename": "NameError",
          "evalue": "name 'Data' is not defined",
          "traceback": [
            "\u001b[0;31m---------------------------------------------------------------------------\u001b[0m",
            "\u001b[0;31mNameError\u001b[0m                                 Traceback (most recent call last)",
            "\u001b[0;32m<ipython-input-8-a3885c4d8e8d>\u001b[0m in \u001b[0;36m<cell line: 49>\u001b[0;34m()\u001b[0m\n\u001b[1;32m     47\u001b[0m     \u001b[0;34m'venta'\u001b[0m\u001b[0;34m:\u001b[0m\u001b[0;34m[\u001b[0m\u001b[0;36m2000.50\u001b[0m\u001b[0;34m,\u001b[0m\u001b[0;36m700.50\u001b[0m\u001b[0;34m,\u001b[0m\u001b[0;36m950.50\u001b[0m\u001b[0;34m,\u001b[0m\u001b[0;36m3000.80\u001b[0m\u001b[0;34m,\u001b[0m\u001b[0;36m1000.70\u001b[0m\u001b[0;34m,\u001b[0m\u001b[0;36m500.50\u001b[0m\u001b[0;34m]\u001b[0m\u001b[0;34m\u001b[0m\u001b[0;34m\u001b[0m\u001b[0m\n\u001b[1;32m     48\u001b[0m }\n\u001b[0;32m---> 49\u001b[0;31m \u001b[0mdf\u001b[0m \u001b[0;34m=\u001b[0m \u001b[0mpd\u001b[0m\u001b[0;34m.\u001b[0m\u001b[0mDataFrame\u001b[0m\u001b[0;34m(\u001b[0m\u001b[0mData\u001b[0m\u001b[0;34m)\u001b[0m\u001b[0;34m\u001b[0m\u001b[0;34m\u001b[0m\u001b[0m\n\u001b[0m\u001b[1;32m     50\u001b[0m \u001b[0mprint\u001b[0m\u001b[0;34m(\u001b[0m\u001b[0mdf\u001b[0m\u001b[0;34m)\u001b[0m\u001b[0;34m\u001b[0m\u001b[0;34m\u001b[0m\u001b[0m\n\u001b[1;32m     51\u001b[0m \u001b[0mfiltro\u001b[0m\u001b[0;34m=\u001b[0m\u001b[0mdf\u001b[0m\u001b[0;34m[\u001b[0m\u001b[0;34m'edad'\u001b[0m\u001b[0;34m]\u001b[0m\u001b[0;34m>\u001b[0m\u001b[0;36m25\u001b[0m\u001b[0;34m&\u001b[0m \u001b[0;34m(\u001b[0m\u001b[0mdf\u001b[0m\u001b[0;34m[\u001b[0m\u001b[0;34m'venta'\u001b[0m\u001b[0;34m]\u001b[0m\u001b[0;34m<\u001b[0m \u001b[0;36m2500\u001b[0m\u001b[0;34m)\u001b[0m\u001b[0;34m\u001b[0m\u001b[0;34m\u001b[0m\u001b[0m\n",
            "\u001b[0;31mNameError\u001b[0m: name 'Data' is not defined"
          ]
        }
      ]
    }
  ]
}