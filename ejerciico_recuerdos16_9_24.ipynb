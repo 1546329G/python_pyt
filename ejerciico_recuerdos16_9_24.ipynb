{
  "nbformat": 4,
  "nbformat_minor": 0,
  "metadata": {
    "colab": {
      "provenance": [],
      "authorship_tag": "ABX9TyMFfawDqWCg6DTw/HTaAjCm",
      "include_colab_link": true
    },
    "kernelspec": {
      "name": "python3",
      "display_name": "Python 3"
    },
    "language_info": {
      "name": "python"
    }
  },
  "cells": [
    {
      "cell_type": "markdown",
      "metadata": {
        "id": "view-in-github",
        "colab_type": "text"
      },
      "source": [
        "<a href=\"https://colab.research.google.com/github/1546329G/python_pyt/blob/main/ejerciico_recuerdos16_9_24.ipynb\" target=\"_parent\"><img src=\"https://colab.research.google.com/assets/colab-badge.svg\" alt=\"Open In Colab\"/></a>"
      ]
    },
    {
      "cell_type": "code",
      "execution_count": 6,
      "metadata": {
        "colab": {
          "base_uri": "https://localhost:8080/"
        },
        "id": "G5H1Et4TcRd1",
        "outputId": "89ac918d-c506-4d3c-fb7a-9738158c0177"
      },
      "outputs": [
        {
          "output_type": "stream",
          "name": "stdout",
          "text": [
            "[4 5 6 7 8]\n",
            "[14 32]\n"
          ]
        }
      ],
      "source": [
        "#fundamentos de vectores y matrices\n",
        "import numpy as np\n",
        "\n",
        "\n",
        "#crear vector\n",
        "vector = np.array([1,2,3,4,5])\n",
        "#print(vector)\n",
        "\n",
        "#crear matriz\n",
        "matriz=np.array([[1,2,3,],[4,5,6]])\n",
        "#print(matriz)\n",
        "\n",
        "#opreaciones  basicas\n",
        "suma_vector = vector+3\n",
        "print(suma_vector)\n",
        "#print(suma_vector)\n",
        "producto_m_v = np.dot(matriz,vector[:3])\n",
        "print(producto_m_v)\n"
      ]
    },
    {
      "cell_type": "code",
      "source": [
        "#jerciio 1 crear un vector de tamaño 10 con valores del 1 al 10 crea una\n",
        "#matriz de tamaño 3x3 con valores del 1 al 9 realiza la multiplicacion de la matriz con el vector\n",
        "\n",
        "\n",
        "#forma 1\n",
        "import numpy as np\n",
        "#crear vector\n",
        "vector = np.array([1,2,3,4,5,6,7,8,9,10])\n",
        "#crear matriz\n",
        "matriz=np.array([[1,2,3,],[4,5,6],[7,8,9]])\n",
        "#opreaciones  basicas\n",
        "producto_m_v = np.dot(matriz,vector[:3])\n",
        "print(producto_m_v)\n",
        "\n",
        "\n",
        "\n",
        "\n",
        "#forma2\n",
        "import numpy as np\n",
        "#crear vector con rango\n",
        "vector = np.arange(1,11) #si inicia en 1 y termina en 10\n",
        "#crear matriz con rango\n",
        "matriz=np.arange(1,10).reshape(3,3) #inicia n 1 y termina en 9 /f=3 c=3\n",
        "vector_truncado = vector[6:9]\n",
        "producto_m_v = np.dot(matriz,vector_truncado)\n",
        "print(producto_m_v)"
      ],
      "metadata": {
        "colab": {
          "base_uri": "https://localhost:8080/"
        },
        "id": "LCVifEJaiYg1",
        "outputId": "ae6c8d69-e03c-4d2b-bb21-ccb38df87993"
      },
      "execution_count": 12,
      "outputs": [
        {
          "output_type": "stream",
          "name": "stdout",
          "text": [
            "[14 32 50]\n",
            "[ 50 122 194]\n"
          ]
        }
      ]
    },
    {
      "cell_type": "code",
      "source": [
        "#pandas : libreria de python para manupular y analyzar datos /dataframe\n",
        "#numpys ?: libreria de python para realizar calculos cientificos/ arreglos multiplicacon\n",
        "import pandas as pd\n",
        "import numpy as np\n",
        "# dataframe usar pandas\n",
        "data={'columna1': [100,200,300],'columna2':[10.5,20.5,30.5]}\n",
        "df = pd.DataFrame(data)\n",
        "print(df)\n",
        "\n",
        "#operaciones comn pandas y numpys\n",
        "df['columna3']=np.log(df['columna2'])\n",
        "print(df)"
      ],
      "metadata": {
        "colab": {
          "base_uri": "https://localhost:8080/"
        },
        "id": "w0Lzo2H9loZl",
        "outputId": "861fe1ca-5cc7-4392-f6dd-728bb15ac6a4"
      },
      "execution_count": 1,
      "outputs": [
        {
          "output_type": "stream",
          "name": "stdout",
          "text": [
            "   columna1  columna2\n",
            "0       100      10.5\n",
            "1       200      20.5\n",
            "2       300      30.5\n",
            "   columna1  columna2  columna3\n",
            "0       100      10.5  2.351375\n",
            "1       200      20.5  3.020425\n",
            "2       300      30.5  3.417727\n"
          ]
        }
      ]
    },
    {
      "cell_type": "markdown",
      "source": [
        "CREA UNA DATA FRAME CON 5 FILAS Y 3 COLUMAS\n",
        "DE DAROS ALEATORIOS, AÑADE UNA COLUMNA CALCULANDO LA SUMA DE LAS 2 PRIMERAS  COLUMNAS"
      ],
      "metadata": {
        "id": "Qp4T2tDsnOwn"
      }
    },
    {
      "cell_type": "code",
      "source": [
        "import pandas as pd\n",
        "import numpy as np\n",
        "# dataframe usar pandas\n",
        "data={'columna1': [100,200,300,400,500],'columna2':[10.5,20.5,30.5,4.5,7.6]}\n",
        "df = pd.DataFrame(data)\n",
        "print(df)\n",
        "\n",
        "\n",
        "#operaciones comn pandas y numpys, SUMA DE COLUMNAS\n",
        "df['columna3'] = df['columna1'] + df['columna2']\n",
        "print(df)"
      ],
      "metadata": {
        "colab": {
          "base_uri": "https://localhost:8080/"
        },
        "id": "CPFiaWt_nvqN",
        "outputId": "2dec0b89-c7c2-4022-910e-8ac2af9b967f"
      },
      "execution_count": 8,
      "outputs": [
        {
          "output_type": "stream",
          "name": "stdout",
          "text": [
            "   columna1  columna2\n",
            "0       100      10.5\n",
            "1       200      20.5\n",
            "2       300      30.5\n",
            "3       400       4.5\n",
            "4       500       7.6\n",
            "   columna1  columna2  columna3\n",
            "0       100      10.5     110.5\n",
            "1       200      20.5     220.5\n",
            "2       300      30.5     330.5\n",
            "3       400       4.5     404.5\n",
            "4       500       7.6     507.6\n"
          ]
        }
      ]
    },
    {
      "cell_type": "code",
      "source": [
        "#MANIPULACION Y NANALISIS DE ESTRUTURA DE  DATOS\n",
        "\n",
        "data={'Nombre':['chaly','Carolina','German'],'Edad':[30,28,89]}\n",
        "df=pd.DataFrame(data)\n",
        "#flitardo de datos\n",
        "df_filtrado = df[df['Edad']>=30]\n",
        "print(\"\\nFiltrado de datos por edad \")\n",
        "print(df_filtrado)"
      ],
      "metadata": {
        "colab": {
          "base_uri": "https://localhost:8080/"
        },
        "id": "BL1AXyivv0uQ",
        "outputId": "ed725e0a-3c72-4c9d-f497-29793da9f7a1"
      },
      "execution_count": 9,
      "outputs": [
        {
          "output_type": "stream",
          "name": "stdout",
          "text": [
            "\n",
            "Filtrado de datos por edad \n",
            "   Nombre  Edad\n",
            "0   chaly    30\n",
            "2  German    89\n"
          ]
        }
      ]
    },
    {
      "cell_type": "markdown",
      "source": [
        "ejercicio 3: CREAR UNA DATAFRAME CON INFORMACION DE ESTUDIANTES DE SENATI, DONDE TENDRAS:\n",
        "NOMBRE,EDAD,CARRERA,NOTAFINAL,DBERAS CREAR MINIMO 6 REGISTROS MAXIMO 12, FLITRAR POR LAS CARRERAS QUE TENGAN LA MAYOR NOTA"
      ],
      "metadata": {
        "id": "iVZ4nDqWxKeD"
      }
    },
    {
      "cell_type": "code",
      "source": [
        "#ejercicio 3\n",
        "\n",
        "import pandas as pd\n",
        "import numpy as np\n",
        "# dataframe usar pandas\n",
        "data={'columna1': ['NOMBRE','EDAD','CARRERA','NOTALFINAL'],'columna2':[10.5,20.5,30.5,4.5]}\n",
        "df = pd.DataFrame(data)\n",
        "print(df)\n",
        "\n",
        "\n",
        "\n",
        "\n",
        ""
      ],
      "metadata": {
        "colab": {
          "base_uri": "https://localhost:8080/"
        },
        "id": "SUdC_P7qwsw5",
        "outputId": "785c2686-7557-4e42-a83e-6175a7078550"
      },
      "execution_count": 4,
      "outputs": [
        {
          "output_type": "stream",
          "name": "stdout",
          "text": [
            "   Nombre  Edad     Carrera  NotaFinal\n",
            "0    Juan    20  Ingenieria         16\n",
            "1   Pedro    22    Medicina         18\n",
            "2   Maria    21     Derecho         17\n",
            "3     Ana    19  Ingenieria         19\n",
            "4    Luis    23    Medicina         15\n",
            "5  Carmen    20     Derecho         17\n",
            "Carrera\n",
            "Derecho       17\n",
            "Ingenieria    19\n",
            "Medicina      18\n",
            "Name: NotaFinal, dtype: int64\n"
          ]
        }
      ]
    },
    {
      "cell_type": "code",
      "source": [
        "\n",
        "import pandas as pd\n",
        "\n",
        "data={\n",
        "  'Nombre' : ['Gandy','carolina','hulk','steve','jorge','karen'],\n",
        "  'edad': [18,43,31,18,45,89],\n",
        "  'carrera':['fisica','matemaricas','cosineroi','valet','derecho','sicologo'],\n",
        "  'Notafinal':[11,17,15,14,78,56]\n",
        "\n",
        "}\n",
        "\n",
        "df=pd.DataFrame(data)\n",
        "#flitrado de datos de la nota maxima\n",
        "notaMaxima = df['Notafinal'].max()\n",
        "df_filtrado = df[df['Notafinal']==notaMaxima]\n",
        "print(\"\\nFiltrado de datos por nota \")\n",
        "print(df_filtrado)\n",
        "\n",
        "\n",
        "\n",
        "\n",
        "\n",
        "\n",
        "\n",
        "\n"
      ],
      "metadata": {
        "colab": {
          "base_uri": "https://localhost:8080/"
        },
        "id": "aKIFWJ1bzf5O",
        "outputId": "4e2c11ef-771d-4d97-a10b-f1692bf874e5"
      },
      "execution_count": 7,
      "outputs": [
        {
          "output_type": "stream",
          "name": "stdout",
          "text": [
            "\n",
            "Filtrado de datos por nota \n",
            "  Nombre  edad  carrera  Notafinal\n",
            "4  jorge    45  derecho         78\n",
            "     Nombre  edad       carrera  Notafinal\n",
            "0     Gandy    18       sofware         11\n",
            "1  carolina    43  Electricidad         17\n",
            "2      hulk    31        textil         15\n",
            "3     steve    18       sofware         14\n",
            "4     jorge    45  Electricidad         78\n",
            "5     karen    89        textil         56\n",
            "     Nombre  edad       carrera  Notafinal\n",
            "0     Gandy    18       sofware         11\n",
            "1  carolina    43  Electricidad         17\n",
            "2      hulk    31        textil         15\n",
            "3     steve    18       sofware         14\n",
            "4     jorge    45  Electricidad         78\n",
            "5     karen    89        textil         56\n"
          ]
        }
      ]
    },
    {
      "cell_type": "code",
      "source": [
        "#crear archicos CSV\n",
        "import pandas as pd\n",
        "import numpy as np\n",
        "\n",
        "data={\n",
        "     'Nombre' : ['Gandy','carolina','hulk','steve','jorge','karen'],\n",
        "    'edad': [18,43,31,18,45,89],\n",
        "   'carrera':['sofware','Electricidad','textil','sofware','Electricidad','textil'],\n",
        "   'Notafinal':[11,17,15,14,78,56]\n",
        " }\n",
        "df=pd.DataFrame(data)\n",
        "#guardamos los datos en un archivo csv\n",
        "df.to_csv('estudiantes_senati.csv',index=False)\n",
        "\n",
        "#LEEER EL ARCHIVO CSV Y LEERLOS PARA EL ANALIZIS\n",
        "df_leido=pd.read_csv('estudiantes_senati.csv')\n",
        "print(df_leido)\n",
        "#leer el archivo cssv con numpy\n",
        "data_np=np.genfromtxt('estudiantes_senati.csv',delimiter=',',dtype=None,encoding='utf8',names=True)\n",
        "print(df_leido)\n"
      ],
      "metadata": {
        "colab": {
          "base_uri": "https://localhost:8080/"
        },
        "id": "thA0SJsI4yw6",
        "outputId": "3b8f2fca-03e1-4169-8b9a-712a85fa2db4"
      },
      "execution_count": 12,
      "outputs": [
        {
          "output_type": "stream",
          "name": "stdout",
          "text": [
            "     Nombre  edad       carrera  Notafinal\n",
            "0     Gandy    18       sofware         11\n",
            "1  carolina    43  Electricidad         17\n",
            "2      hulk    31        textil         15\n",
            "3     steve    18       sofware         14\n",
            "4     jorge    45  Electricidad         78\n",
            "5     karen    89        textil         56\n",
            "     Nombre  edad       carrera  Notafinal\n",
            "0     Gandy    18       sofware         11\n",
            "1  carolina    43  Electricidad         17\n",
            "2      hulk    31        textil         15\n",
            "3     steve    18       sofware         14\n",
            "4     jorge    45  Electricidad         78\n",
            "5     karen    89        textil         56\n"
          ]
        }
      ]
    },
    {
      "cell_type": "markdown",
      "source": [
        "CREAR un archivo csv c con datos de producto, cantidad, precio_unitario_docena_valor_venta,yluego mostrarlos por pandas y numpys"
      ],
      "metadata": {
        "id": "XTcCRd1o8_8t"
      }
    },
    {
      "cell_type": "code",
      "source": [
        "\n",
        "# Importa las bibliotecas necesarias\n",
        "import pandas as pd\n",
        "import numpy as np\n",
        "\n",
        "# Crea un diccionario con los datos\n",
        "data = {\n",
        "    'producto': ['manzana', 'banana', 'naranja', 'uva', 'pera'],\n",
        "    'cantidad': [10, 15, 12, 8, 20],\n",
        "    'precio-unitario-docena': [12, 6, 9, 15, 10],\n",
        "    'valor-venta': [120, 90, 108, 120, 900]\n",
        "}\n",
        "\n",
        "df = pd.DataFrame(data)\n",
        "df.to_csv('productos.csv', index=False)\n",
        "df_pandas = pd.read_csv('productos.csv')\n",
        "print(\"Datos con pandas:\")\n",
        "print(df_pandas)\n",
        "\n",
        "\n",
        "\n"
      ],
      "metadata": {
        "colab": {
          "base_uri": "https://localhost:8080/"
        },
        "id": "QjOvL63r91OE",
        "outputId": "7f0f2aae-626d-4e87-9465-ec19e38d5961"
      },
      "execution_count": 23,
      "outputs": [
        {
          "output_type": "stream",
          "name": "stdout",
          "text": [
            "Datos con pandas:\n",
            "  producto  cantidad  precio-unitario-docena  valor-venta\n",
            "0  manzana        10                      12          120\n",
            "1   banana        15                       6           90\n",
            "2  naranja        12                       9          108\n",
            "3      uva         8                      15          120\n",
            "4     pera        20                      10          900\n"
          ]
        }
      ]
    },
    {
      "cell_type": "markdown",
      "source": [
        "#MACHIE LEARNING"
      ],
      "metadata": {
        "id": "nETM3o-EASP1"
      }
    },
    {
      "cell_type": "code",
      "source": [
        "from sklearn.datasets import load_iris\n",
        "from sklearn.model_selection import train_test_split\n",
        "from sklearn.linear_model import LogisticRegression\n",
        "from sklearn.metrics import accuracy_score\n",
        "\n",
        "data=load_iris()"
      ],
      "metadata": {
        "id": "0nCgeAGdAZSE"
      },
      "execution_count": null,
      "outputs": []
    }
  ]
}